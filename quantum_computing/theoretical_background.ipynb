{
 "cells": [
  {
   "cell_type": "markdown",
   "metadata": {},
   "source": [
    "# Theoretical Background\n",
    "\n",
    "## Resources\n",
    "\n",
    "- Lectures by Leonard Susskind: https://www.youtube.com/view_play_list?p=A27CEA1B8B27EB67\n",
    "- Series by Jonathan Hui: https://medium.com/@jonathan_hui/qc-quantum-computing-series-10ddd7977abd\n",
    "\n",
    "## Complex Numbers\n",
    "\n",
    "An inline Latex expression: $c = \\sqrt{a^2 + b^2}$.\n",
    "\n",
    "A Latex block: $$c = \\sqrt{a^2 + b^2}$$"
   ]
  }
 ],
 "metadata": {
  "kernelspec": {
   "display_name": "Python 3",
   "language": "python",
   "name": "python3"
  },
  "language_info": {
   "codemirror_mode": {
    "name": "ipython",
    "version": 3
   },
   "file_extension": ".py",
   "mimetype": "text/x-python",
   "name": "python",
   "nbconvert_exporter": "python",
   "pygments_lexer": "ipython3",
   "version": "3.8.0"
  }
 },
 "nbformat": 4,
 "nbformat_minor": 2
}
